{
    "cells": [
        {
            "cell_type": "markdown",
            "metadata": {},
            "source": "# Clustering Neighbourhoods in Toronto"
        },
        {
            "cell_type": "code",
            "execution_count": 3,
            "metadata": {},
            "outputs": [],
            "source": "import pandas as pd\nfrom bs4 import BeautifulSoup\nimport requests"
        },
        {
            "cell_type": "markdown",
            "metadata": {},
            "source": "### Download information from Wikipedia page  "
        },
        {
            "cell_type": "code",
            "execution_count": 33,
            "metadata": {},
            "outputs": [],
            "source": "uri = \"https://en.wikipedia.org/wiki/List_of_postal_codes_of_Canada:_M\"\nhtml_data = requests.get(uri)\n\nsoup = BeautifulSoup(html_data.content, 'html.parser')\nsoup.prettify()\n\ntables = soup.body.findAll(\"table\")"
        },
        {
            "cell_type": "markdown",
            "metadata": {},
            "source": "### and parse it with Beautiful soap"
        },
        {
            "cell_type": "code",
            "execution_count": 30,
            "metadata": {},
            "outputs": [
                {
                    "data": {
                        "text/plain": "(103, 3)"
                    },
                    "execution_count": 30,
                    "metadata": {},
                    "output_type": "execute_result"
                }
            ],
            "source": "table_contents = []\ntable = tables[0]\nfor td in table.tbody.find_all(\"td\"):\n    if td.span.text == \"Not assigned\":\n        pass\n    else:\n        cell = {}\n        cell['PostalCode'] = td.p.text[:3]\n        cell['Borough'] = td.span.text.split('(')[0]\n        cell['Neighborhood'] = (((((td.span.text).split('(')[1]).strip(')')).replace(' /',',')).replace(')',' ')).strip(' ')\n        \n        table_contents.append(cell)\n\ndf=pd.DataFrame(table_contents)\n\ndf.shape"
        },
        {
            "cell_type": "code",
            "execution_count": null,
            "metadata": {},
            "outputs": [],
            "source": ""
        }
    ],
    "metadata": {
        "kernelspec": {
            "display_name": "Python 3.7",
            "language": "python",
            "name": "python3"
        },
        "language_info": {
            "codemirror_mode": {
                "name": "ipython",
                "version": 3
            },
            "file_extension": ".py",
            "mimetype": "text/x-python",
            "name": "python",
            "nbconvert_exporter": "python",
            "pygments_lexer": "ipython3",
            "version": "3.7.10"
        }
    },
    "nbformat": 4,
    "nbformat_minor": 1
}