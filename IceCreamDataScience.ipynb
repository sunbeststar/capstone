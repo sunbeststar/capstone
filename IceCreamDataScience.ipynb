{
    "cells": [
        {
            "cell_type": "markdown",
            "id": "9133d558",
            "metadata": {},
            "source": "# Ice Cream Shops Exploration"
        },
        {
            "cell_type": "markdown",
            "id": "dba5e8fd",
            "metadata": {},
            "source": "## Business Problem"
        },
        {
            "cell_type": "markdown",
            "id": "8e9c4061",
            "metadata": {},
            "source": "A young, international and fast growing chain of Ice Cream Shops would like to expand their business to Germany. The business owners are not familiar with current situation of Ice Cream Business in Germany and they would like to explore it better. So they would like to collect statistics about current presence of ice cream shops in German cities. \n\nAlso, the company would like to receive the list of best candidates cities to open new shops, based on few criteria:\n- the cities with the smallest density of existing coffee shops per 1000 person of population;\n- the cities with at least 10000 people of population"
        },
        {
            "cell_type": "markdown",
            "id": "94cf6c4d",
            "metadata": {},
            "source": "## Data"
        },
        {
            "cell_type": "markdown",
            "id": "ee05577f",
            "metadata": {},
            "source": "In order to collect the required statistics about the Coffee Shops in German cities, we need: \n1. The list of german cities with population data for each; \n2. The information about current Ice Cream Shops for each city. \n\n__The list of german cities with corresponding population__ was found on the web page of Statistisches Bundesamt: https://www.destatis.de/DE/Themen/Laender-Regionen/Regionales/Gemeindeverzeichnis/Administrativ/05-staedte.html). Here, the corresponding .csv file was downloaded and will be used from local repository. This file contains list of all locations which have status of city, along with Postal Code and Population data. \n\nAdditionally, since the data file from Statistisches Bundesamt has only one Postal Code per city, but the large cities as Berlin or Hamburg have many Postal Codes, additional database with __all__ postal codes as well as with latitude and longitude coordinates was downloaded from https://github.com/zauberware/postal-codes-json-xml-csv for Germany.\n\n__The information about current Ice Cream Shops__ will be retrieved from ForeSquares.com API based on coordinates of the cities from above databases. \n\n"
        },
        {
            "cell_type": "code",
            "execution_count": null,
            "id": "8606250f",
            "metadata": {},
            "outputs": [],
            "source": ""
        }
    ],
    "metadata": {
        "kernelspec": {
            "display_name": "Python 3",
            "language": "python",
            "name": "python3"
        },
        "language_info": {
            "codemirror_mode": {
                "name": "ipython",
                "version": 3
            },
            "file_extension": ".py",
            "mimetype": "text/x-python",
            "name": "python",
            "nbconvert_exporter": "python",
            "pygments_lexer": "ipython3",
            "version": "3.8.10"
        }
    },
    "nbformat": 4,
    "nbformat_minor": 5
}